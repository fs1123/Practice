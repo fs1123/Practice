{
 "cells": [
  {
   "cell_type": "markdown",
   "metadata": {},
   "source": [
    "# Problem 4"
   ]
  },
  {
   "cell_type": "code",
   "execution_count": 3,
   "metadata": {},
   "outputs": [],
   "source": [
    "# Write a Python program which solves Ax = b by using PA = LU. Test your result.\n",
    "import scipy.linalg as linalg\n",
    "import numpy as np\n",
    "\n",
    "def lu_solve(A,b):\n",
    "    # if A is not a np.ndarray, convert it to a np.ndarray for convenience.\n",
    "    if type(A) != np.ndarray:\n",
    "        A = np.array(A)\n",
    "    if type(b) != np.ndarray:\n",
    "        b = np.array(b)\n",
    "\n",
    "    P, L, U = linalg.lu(A)\n",
    "    m,n = A.shape\n",
    "\n",
    "    # Forward elimination to solve L*y = Pb = c\n",
    "\n",
    "    y = np.zeros(m)\n",
    "    c = np.matmul(P.T,b)\n",
    "\n",
    "    for i in range(m):\n",
    "        y[i] = c[i] - np.inner(L[i,:i],y[:i])\n",
    "\n",
    "\n",
    "    # Back substitution to solve U*x = y\n",
    "    x = np.zeros(n)\n",
    "    for j in range(n-1,-1,-1):\n",
    "        x[j] = (y[j] - (np.inner(U[j,j+1:n],x[j+1:n])))/U[j,j]\n",
    "\n",
    "    return x"
   ]
  },
  {
   "cell_type": "code",
   "execution_count": 4,
   "metadata": {},
   "outputs": [
    {
     "name": "stdout",
     "output_type": "stream",
     "text": [
      "[-0.31625138 -0.8925568  -0.05325808]\n",
      "[-0.31625138 -0.8925568  -0.05325808]\n"
     ]
    }
   ],
   "source": [
    "# Check lu_solve function gives same solution as linalg.solve function from scipy.\n",
    "# If their solutions are same, function is working well.\n",
    "\n",
    "if __name__ == '__main__':\n",
    "    A = np.random.randn(3,3)\n",
    "    b = np.random.randn(3)\n",
    "    print(lu_solve(A,b))\n",
    "    print(linalg.solve(A,b))"
   ]
  },
  {
   "cell_type": "markdown",
   "metadata": {},
   "source": [
    "# Problem 5"
   ]
  },
  {
   "cell_type": "code",
   "execution_count": 19,
   "metadata": {
    "scrolled": true
   },
   "outputs": [
    {
     "data": {
      "text/plain": [
       "<matplotlib.collections.PathCollection at 0x113ef1198>"
      ]
     },
     "execution_count": 19,
     "metadata": {},
     "output_type": "execute_result"
    },
    {
     "data": {
      "image/png": "[encoded data removed]",
      "text/plain": [
       "<matplotlib.figure.Figure at 0x113e51320>"
      ]
     },
     "metadata": {},
     "output_type": "display_data"
    }
   ],
   "source": [
    "import numpy as np\n",
    "import pandas as pd\n",
    "from pandas import DataFrame, Series\n",
    "import matplotlib.pyplot as plt\n",
    "\n",
    "A1 = np.array([[0,0],[0,0.27]])\n",
    "A2 = np.array([[-.139,.263],[.246,.224]])\n",
    "A3 = np.array([[.17,-.215],[.222,.176]])\n",
    "A4 = np.array([[.781, .034],[-.032, .739]])\n",
    "A = [A1,A2,A3,A4]\n",
    "\n",
    "d1 = np.array([.5,0])\n",
    "d2 = np.array([.57,-.036])\n",
    "d3 = np.array([.408, .0893])\n",
    "d4 = np.array([.1075, .27])\n",
    "d = [d1,d2,d3,d4]\n",
    "\n",
    "p = (.02, .15, .13, .70)\n",
    "\n",
    "z0 = np.random.randn(2)\n",
    "z_list = [z0]\n",
    "for i in range(1000):\n",
    "    num = np.random.choice(4,1,p=p)[0]\n",
    "    z_list.append(np.dot(A[num],z_list[i]) + d[num])\n",
    "    \n",
    "x = [z[0] for z in z_list]\n",
    "y = [z[1] for z in z_list]    \n",
    "\n",
    "plt.scatter(x,y)"
   ]
  }
 ],
 "metadata": {
  "kernelspec": {
   "display_name": "Python 3",
   "language": "python",
   "name": "python3"
  },
  "language_info": {
   "codemirror_mode": {
    "name": "ipython",
    "version": 3
   },
   "file_extension": ".py",
   "mimetype": "text/x-python",
   "name": "python",
   "nbconvert_exporter": "python",
   "pygments_lexer": "ipython3",
   "version": "3.6.4"
  }
 },
 "nbformat": 4,
 "nbformat_minor": 2
}
